{
  "nbformat": 4,
  "nbformat_minor": 0,
  "metadata": {
    "kernelspec": {
      "name": "python3",
      "display_name": "Python 3",
      "language": "python"
    },
    "language_info": {
      "name": "python",
      "version": "3.7.9",
      "mimetype": "text/x-python",
      "codemirror_mode": {
        "name": "ipython",
        "version": 3
      },
      "pygments_lexer": "ipython3",
      "nbconvert_exporter": "python",
      "file_extension": ".py"
    },
    "colab": {
      "name": "model_test.ipynb",
      "provenance": []
    }
  },
  "cells": [
    {
      "cell_type": "code",
      "metadata": {
        "id": "VKMYvfm6DOC_"
      },
      "source": [
        "import tensorflow as tf\r\n",
        "from tensorflow import keras\r\n",
        "from keras.models import load_model\r\n",
        "\r\n",
        "model = load_model('/content/sign_model.h5')"
      ],
      "execution_count": 52,
      "outputs": []
    },
    {
      "cell_type": "code",
      "metadata": {
        "colab": {
          "base_uri": "https://localhost:8080/"
        },
        "id": "l0QM0XAjZbDX",
        "outputId": "6cef1921-4374-469c-922a-8a28a5b8f5c2"
      },
      "source": [
        "import skimage\r\n",
        "import cv2\r\n",
        "from skimage.transform import resize\r\n",
        "import numpy as np\r\n",
        "import pandas as pd\r\n",
        "\r\n",
        "size = 64, 64\r\n",
        "img_file = cv2.imread('/content/WIN_20210206_21_09_02_Pro.jpg')\r\n",
        "img_file = cv2.resize(img_file, size)\r\n",
        "img_arr = np.asarray(img_file)\r\n",
        "img_arr"
      ],
      "execution_count": 53,
      "outputs": [
        {
          "output_type": "execute_result",
          "data": {
            "text/plain": [
              "array([[[ 92,  93,  89],\n",
              "        [ 99,  95,  94],\n",
              "        [ 98,  96,  95],\n",
              "        ...,\n",
              "        [137, 143, 142],\n",
              "        [135, 143, 142],\n",
              "        [134, 142, 141]],\n",
              "\n",
              "       [[ 95,  93,  91],\n",
              "        [ 96,  94,  93],\n",
              "        [ 99,  97,  93],\n",
              "        ...,\n",
              "        [135, 143, 142],\n",
              "        [137, 144, 143],\n",
              "        [134, 142, 141]],\n",
              "\n",
              "       [[ 95,  93,  92],\n",
              "        [ 98,  96,  95],\n",
              "        [100,  97,  92],\n",
              "        ...,\n",
              "        [137, 145, 144],\n",
              "        [138, 144, 143],\n",
              "        [135, 143, 142]],\n",
              "\n",
              "       ...,\n",
              "\n",
              "       [[ 45,  43,  43],\n",
              "        [ 41,  42,  39],\n",
              "        [104, 105, 103],\n",
              "        ...,\n",
              "        [122, 130, 129],\n",
              "        [123, 131, 130],\n",
              "        [122, 130, 129]],\n",
              "\n",
              "       [[ 36,  35,  37],\n",
              "        [ 42,  43,  41],\n",
              "        [ 95,  95,  96],\n",
              "        ...,\n",
              "        [120, 128, 127],\n",
              "        [121, 129, 128],\n",
              "        [120, 128, 127]],\n",
              "\n",
              "       [[ 38,  34,  35],\n",
              "        [ 44,  42,  42],\n",
              "        [ 48,  46,  46],\n",
              "        ...,\n",
              "        [118, 126, 125],\n",
              "        [120, 128, 127],\n",
              "        [119, 127, 126]]], dtype=uint8)"
            ]
          },
          "metadata": {
            "tags": []
          },
          "execution_count": 53
        }
      ]
    },
    {
      "cell_type": "code",
      "metadata": {
        "colab": {
          "base_uri": "https://localhost:8080/"
        },
        "id": "UQ62jXCla7vT",
        "outputId": "d6f35dc0-0b6e-421f-ed74-53bc04add7ce"
      },
      "source": [
        "X = []\r\n",
        "X.append(img_arr)\r\n",
        "X = np.asarray(X).astype('float32') / 255.0\r\n",
        "X.shape"
      ],
      "execution_count": 54,
      "outputs": [
        {
          "output_type": "execute_result",
          "data": {
            "text/plain": [
              "(1, 64, 64, 3)"
            ]
          },
          "metadata": {
            "tags": []
          },
          "execution_count": 54
        }
      ]
    },
    {
      "cell_type": "code",
      "metadata": {
        "colab": {
          "base_uri": "https://localhost:8080/"
        },
        "id": "TD99p_rXZrQ5",
        "outputId": "1926674a-d531-492c-9a71-f36309ef61c1"
      },
      "source": [
        "model.predict(X).argmax()"
      ],
      "execution_count": 55,
      "outputs": [
        {
          "output_type": "execute_result",
          "data": {
            "text/plain": [
              "17"
            ]
          },
          "metadata": {
            "tags": []
          },
          "execution_count": 55
        }
      ]
    },
    {
      "cell_type": "code",
      "metadata": {
        "id": "bJyLXc6PTN5y"
      },
      "source": [
        ""
      ],
      "execution_count": null,
      "outputs": []
    }
  ]
}